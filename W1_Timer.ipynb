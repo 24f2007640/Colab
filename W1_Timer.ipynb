{
  "nbformat": 4,
  "nbformat_minor": 0,
  "metadata": {
    "colab": {
      "provenance": [],
      "authorship_tag": "ABX9TyPeo85tHnjhg5mnhf90qm3g",
      "include_colab_link": true
    },
    "kernelspec": {
      "name": "python3",
      "display_name": "Python 3"
    },
    "language_info": {
      "name": "python"
    }
  },
  "cells": [
    {
      "cell_type": "markdown",
      "metadata": {
        "id": "view-in-github",
        "colab_type": "text"
      },
      "source": [
        "<a href=\"https://colab.research.google.com/github/24f2007640/Colab/blob/main/W1_Timer.ipynb\" target=\"_parent\"><img src=\"https://colab.research.google.com/assets/colab-badge.svg\" alt=\"Open In Colab\"/></a>"
      ]
    },
    {
      "cell_type": "markdown",
      "source": [
        "#Timer"
      ],
      "metadata": {
        "id": "ciOl2k_N-_7L"
      }
    },
    {
      "cell_type": "code",
      "execution_count": null,
      "metadata": {
        "id": "e3ACHYMc-1Na"
      },
      "outputs": [],
      "source": [
        "import time\n",
        "class TimerError(Exception):\n",
        "  \"\"\"A custom execution used ton report errors in use of timer class \"\"\"\n",
        "  pass # Added a pass statement as custom exception classes often have no body\n",
        "\n",
        "class Timer:\n",
        "  def __init__(self):\n",
        "    self._start_time = None\n",
        "    self._elapsed_time = None\n",
        "\n",
        "  def start(self):\n",
        "    \"\"\"Start a new timer\"\"\"\n",
        "    if self._start_time is not None:\n",
        "      raise TimerError(\"Timer is running. Use .stop()\")\n",
        "    self._start_time = time.perf_counter()\n",
        "\n",
        "  def stop(self):\n",
        "    \"\"\" Save the elapsed time and re-initialize timer\"\"\"\n",
        "    if self._start_time is None:\n",
        "      raise TimerError(\"Timer is not running. Use .start()\")\n",
        "    self._elapsed_time = time.perf_counter() - self._start_time\n",
        "    self._start_time = None\n",
        "\n",
        "  def elapsed(self):\n",
        "    \"\"\" report elapsed time \"\"\"\n",
        "    if self._elapsed_time is None:\n",
        "      raise TimerError(\"Timer has not been run yet. Use .start()\")\n",
        "    return self._elapsed_time\n",
        "\n",
        "  def __str__(self):\n",
        "    \"\"\"print() prints elapsed time\"\"\"\n",
        "    return str(self._elapsed_time)"
      ]
    },
    {
      "cell_type": "code",
      "source": [
        "t = Timer()\n",
        "for j in range(4,9):\n",
        "  t.start()\n",
        "  n=0\n",
        "  for i in range(10**j):\n",
        "    n=n+i\n",
        "  t.stop()\n",
        "  print(j,t)"
      ],
      "metadata": {
        "colab": {
          "base_uri": "https://localhost:8080/"
        },
        "id": "Qi-NoLRTAsPr",
        "outputId": "ac53ebee-b11e-4911-82b8-d6b40ada19b7"
      },
      "execution_count": null,
      "outputs": [
        {
          "output_type": "stream",
          "name": "stdout",
          "text": [
            "4 0.0012489080000364083\n",
            "5 0.013273450999975012\n",
            "6 0.13205452800002604\n",
            "7 1.3083709470000144\n",
            "8 14.38511377499998\n"
          ]
        }
      ]
    }
  ]
}