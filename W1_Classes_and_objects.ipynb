{
  "nbformat": 4,
  "nbformat_minor": 0,
  "metadata": {
    "colab": {
      "provenance": [],
      "authorship_tag": "ABX9TyOvSCJaJRwG3+RrYWbdHe9x",
      "include_colab_link": true
    },
    "kernelspec": {
      "name": "python3",
      "display_name": "Python 3"
    },
    "language_info": {
      "name": "python"
    }
  },
  "cells": [
    {
      "cell_type": "markdown",
      "metadata": {
        "id": "view-in-github",
        "colab_type": "text"
      },
      "source": [
        "<a href=\"https://colab.research.google.com/github/24f2007640/Colab/blob/main/W1_Classes_and_objects.ipynb\" target=\"_parent\"><img src=\"https://colab.research.google.com/assets/colab-badge.svg\" alt=\"Open In Colab\"/></a>"
      ]
    },
    {
      "cell_type": "markdown",
      "source": [
        "#Classes and Objects"
      ],
      "metadata": {
        "id": "OA3ZwG_ES4nW"
      }
    },
    {
      "cell_type": "code",
      "execution_count": null,
      "metadata": {
        "id": "vG2lKoQxShWf"
      },
      "outputs": [],
      "source": [
        "class Point:\n",
        "  def __init__(self,a=0,b=0):\n",
        "    self.x = a\n",
        "    self.y = b\n",
        "\n",
        "  def translate(self,deltax,deltay):\n",
        "    self.x += deltax\n",
        "    self.y += deltay\n",
        "\n",
        "  def odistance(self):\n",
        "    import math\n",
        "    d = math.sqrt(self.x*self.x + self.y*self.y)\n",
        "    return(d)\n"
      ]
    },
    {
      "cell_type": "code",
      "source": [
        "p = Point(3,4)\n",
        "q = Point(7,10)"
      ],
      "metadata": {
        "id": "u3zDMR6fT56b"
      },
      "execution_count": 41,
      "outputs": []
    },
    {
      "cell_type": "code",
      "source": [
        "print(p+q) # work in Second and Third Form"
      ],
      "metadata": {
        "colab": {
          "base_uri": "https://localhost:8080/"
        },
        "id": "Eo7-wvQbUFS2",
        "outputId": "9f893865-c719-47a1-fdad-4bd69b9ad907"
      },
      "execution_count": 42,
      "outputs": [
        {
          "output_type": "stream",
          "name": "stdout",
          "text": [
            "(10,14)\n"
          ]
        }
      ]
    },
    {
      "cell_type": "code",
      "source": [
        "p.odistance(),q.odistance()"
      ],
      "metadata": {
        "colab": {
          "base_uri": "https://localhost:8080/"
        },
        "id": "6j_PPRtzVSHD",
        "outputId": "92a76b66-eb77-44f1-b094-8cbd79eddce5"
      },
      "execution_count": 43,
      "outputs": [
        {
          "output_type": "execute_result",
          "data": {
            "text/plain": [
              "(5.0, 12.206555615733702)"
            ]
          },
          "metadata": {},
          "execution_count": 43
        }
      ]
    },
    {
      "cell_type": "code",
      "source": [
        "p.r , p.theta # work in Second form"
      ],
      "metadata": {
        "colab": {
          "base_uri": "https://localhost:8080/",
          "height": 141
        },
        "id": "kEsXDvceYv5d",
        "outputId": "733aed84-3a8b-4abd-eaa1-aeb123c20232"
      },
      "execution_count": 44,
      "outputs": [
        {
          "output_type": "error",
          "ename": "AttributeError",
          "evalue": "'Point' object has no attribute 'r'",
          "traceback": [
            "\u001b[0;31m---------------------------------------------------------------------------\u001b[0m",
            "\u001b[0;31mAttributeError\u001b[0m                            Traceback (most recent call last)",
            "\u001b[0;32m/tmp/ipython-input-1239012803.py\u001b[0m in \u001b[0;36m<cell line: 0>\u001b[0;34m()\u001b[0m\n\u001b[0;32m----> 1\u001b[0;31m \u001b[0mp\u001b[0m\u001b[0;34m.\u001b[0m\u001b[0mr\u001b[0m \u001b[0;34m,\u001b[0m \u001b[0mp\u001b[0m\u001b[0;34m.\u001b[0m\u001b[0mtheta\u001b[0m \u001b[0;31m# work in 2\u001b[0m\u001b[0;34m\u001b[0m\u001b[0;34m\u001b[0m\u001b[0m\n\u001b[0m",
            "\u001b[0;31mAttributeError\u001b[0m: 'Point' object has no attribute 'r'"
          ]
        }
      ]
    },
    {
      "cell_type": "markdown",
      "source": [
        "#Second Form\n"
      ],
      "metadata": {
        "id": "oPef0JbBWMIV"
      }
    },
    {
      "cell_type": "code",
      "source": [
        "class Point:\n",
        "  def __init__(self,a=0,b=0):\n",
        "    import math\n",
        "    self.r = math.sqrt(a*a + b*b)\n",
        "    if a==0:\n",
        "      self.theta = 0\n",
        "    else:\n",
        "      self.theta = math.atan2(b, a) # Use atan2 for better handling of quadrants\n",
        "\n",
        "  def odistance(self):\n",
        "    return(self.r)\n",
        "\n",
        "  def translate(self,deltax,deltay):\n",
        "    import math\n",
        "    x = self.r * math.cos(self.theta) # Use self.theta\n",
        "    y = self.r * math.sin(self.theta) # Use self.theta\n",
        "    x += deltax\n",
        "    y += deltay\n",
        "    self.r = math.sqrt(x*x + y*y)\n",
        "    if x==0:\n",
        "      self.theta = 0\n",
        "    else:\n",
        "      self.theta = math.atan2(y, x) # Use atan2"
      ],
      "metadata": {
        "id": "WyxitFh5WQh7"
      },
      "execution_count": 35,
      "outputs": []
    },
    {
      "cell_type": "markdown",
      "source": [
        "#Third Definition"
      ],
      "metadata": {
        "id": "pwAe3g4sapUD"
      }
    },
    {
      "cell_type": "code",
      "source": [
        "class Point:\n",
        "  def __init__(self,a=0,b=0):\n",
        "    self.x = a\n",
        "    self.y = b\n",
        "\n",
        "  def odistance(self):\n",
        "    import math\n",
        "    d = math.sqrt(self.x*self.x + self.y*self.y)\n",
        "    return(d)\n",
        "\n",
        "  def __str__(self):\n",
        "    return(\"(\"+str(self.x)+\",\"+str(self.y)+\")\")\n",
        "\n",
        "  def __add__(self,p):\n",
        "    return (Point(self.x+p.x,self.y+p.y))\n",
        "\n",
        "\n"
      ],
      "metadata": {
        "id": "tr5DZUjiZ2u3"
      },
      "execution_count": 40,
      "outputs": []
    }
  ]
}