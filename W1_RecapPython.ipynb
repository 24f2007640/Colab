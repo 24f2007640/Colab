{
  "nbformat": 4,
  "nbformat_minor": 0,
  "metadata": {
    "colab": {
      "provenance": [],
      "authorship_tag": "ABX9TyPdGrzU82ac5qa5SS5g1F5/",
      "include_colab_link": true
    },
    "kernelspec": {
      "name": "python3",
      "display_name": "Python 3"
    },
    "language_info": {
      "name": "python"
    }
  },
  "cells": [
    {
      "cell_type": "markdown",
      "metadata": {
        "id": "view-in-github",
        "colab_type": "text"
      },
      "source": [
        "<a href=\"https://colab.research.google.com/github/24f2007640/Colab/blob/main/W1_RecapPython.ipynb\" target=\"_parent\"><img src=\"https://colab.research.google.com/assets/colab-badge.svg\" alt=\"Open In Colab\"/></a>"
      ]
    },
    {
      "cell_type": "markdown",
      "source": [
        "# **Computing Gcd**\n",
        "\n",
        "---\n",
        "\n",
        "\n",
        "* gcd(m,n) <= min(m,n)\n",
        "* compute list of common factors from 1 to min(m,n)\n",
        "* Return the last such common factor\n",
        "\n",
        "## Points to Note:\n",
        "* Need to initialize cf for cf.append() to work\n",
        "  * Variable (names) derive their type from the value they hold\n",
        "* control Flow\n",
        "  * condition (if)\n",
        "  * loops (for)\n",
        "* range(i,j) runs from i to j-1\n",
        "* List indices run from 0 to len(l)-1 and backward from -1 to len(l)\n",
        "\n"
      ],
      "metadata": {
        "id": "TpV8PIazC6Z5"
      }
    },
    {
      "cell_type": "code",
      "execution_count": null,
      "metadata": {
        "id": "ykt-x5BsBxhJ"
      },
      "outputs": [],
      "source": [
        "def gcd(m,n):\n",
        "  cf = [] #list of common factors\n",
        "  for i in range(1,min(m,n)+1):\n",
        "    if m%i == 0 and n%i == 0:\n",
        "      cf.append(i)\n",
        "  return cf[-1]\n"
      ]
    },
    {
      "cell_type": "markdown",
      "source": [
        " Eliminate the list\n",
        "* Only the lst value of cf is important\n",
        "* Keep track of most recent common factor (mcrf)\n",
        "* Recall that 1 is always a common factor\n",
        "  * No need to initialize mrcf"
      ],
      "metadata": {
        "id": "C2sOaoLbIl7a"
      }
    },
    {
      "cell_type": "code",
      "source": [
        "def gcd(m,n):\n",
        "  for i in range(1,min(m,n)+1):\n",
        "    if (m%i) == 0 and (n%i) == 0:\n",
        "      mrcf = i\n",
        "  return mrcf"
      ],
      "metadata": {
        "id": "zZkYo1dzINcn"
      },
      "execution_count": null,
      "outputs": []
    },
    {
      "cell_type": "markdown",
      "source": [
        " Efficiency\n",
        "* Both version of gcd take time proportional to min(m,n)\n",
        "* Can we do better ?"
      ],
      "metadata": {
        "id": "fkoRJ1jgJWEd"
      }
    },
    {
      "cell_type": "markdown",
      "source": [
        "# **Checking Primality**\n",
        "\n",
        "---\n",
        "\n",
        "\n",
        "* Aprime number n has exactly two factors 1 and n , 1 is not a prime\n",
        "* Compute the list of factor of n\n",
        "* n is a prime if the list of factors is precisely [1,n]\n",
        "\n",
        "\n",
        "\n"
      ],
      "metadata": {
        "id": "M8STxJkFaxaZ"
      }
    },
    {
      "cell_type": "code",
      "source": [
        "def factors(n):\n",
        "  fl = []\n",
        "  for i in range(1,n+1):\n",
        "    if (n%i) == 0:\n",
        "      fl.append(i)\n",
        "  return(fl)"
      ],
      "metadata": {
        "id": "ImLvbH5SKQfU"
      },
      "execution_count": null,
      "outputs": []
    },
    {
      "cell_type": "code",
      "source": [
        "def prime(n):\n",
        "  return (factors(n) == [1,n])"
      ],
      "metadata": {
        "id": "h0tSeVEsaURk"
      },
      "execution_count": null,
      "outputs": []
    },
    {
      "cell_type": "markdown",
      "source": [
        "# Computing Primes\n",
        "* List all primes upto m\n",
        "* list the first m primes\n",
        "  * Multiple simultaneous assigment\n",
        "\n",
        "* For vs while\n",
        "  * Is the number of iteration known in advance ?\n",
        "  * Ensure progress to gurantee termination of while"
      ],
      "metadata": {
        "id": "csAEB37BbTjc"
      }
    },
    {
      "cell_type": "code",
      "source": [
        "def primesupto(m):\n",
        "  pl =[]\n",
        "  for i in range(1,m+1):\n",
        "    if prime(i):\n",
        "      pl.append(i)\n",
        "    return(pl)"
      ],
      "metadata": {
        "id": "TlQLvp6bbniY"
      },
      "execution_count": null,
      "outputs": []
    },
    {
      "cell_type": "code",
      "source": [
        "def firstprimes(m):\n",
        "  (count,i,pl) = (0,1,[])\n",
        "  while (count < m):\n",
        "    if prime(i):\n",
        "      (count,pl) = (count+1,pl+[i])\n",
        "    i = i+1\n",
        "  return(pl)"
      ],
      "metadata": {
        "id": "DaohK-tjcAK3"
      },
      "execution_count": null,
      "outputs": []
    },
    {
      "cell_type": "markdown",
      "source": [
        "* Directly check if n has a factor between 2 and n-1\n",
        "* Terminate check after we find first factor\n",
        "  * Breaking out of a loop\n",
        "* Alternatively, use while\n"
      ],
      "metadata": {
        "id": "fMiuYP2ddXyV"
      }
    },
    {
      "cell_type": "code",
      "source": [
        "def prime(n):\n",
        "  result = True\n",
        "  for i in range(2,n):\n",
        "    if (n%i) == 0:\n",
        "      result = False\n",
        "      break\n",
        "  return(result)"
      ],
      "metadata": {
        "id": "U-76RUYjfc8t"
      },
      "execution_count": null,
      "outputs": []
    },
    {
      "cell_type": "code",
      "source": [
        "def prime(n):\n",
        "  (result,i) = (True,2)\n",
        "  while (result and (i < n)):\n",
        "    if (n%i) == 0:\n",
        "      result = False\n",
        "    i = i+1\n",
        "  return(result)"
      ],
      "metadata": {
        "id": "AVcxyP7gfy2f"
      },
      "execution_count": null,
      "outputs": []
    },
    {
      "cell_type": "markdown",
      "source": [
        "* Speeding things up slightlty\n",
        "  * Factors occur in pairs\n",
        "  * Sufficient to check factors upto root n\n",
        "  * If n is prime , scan 2,....root n instead  of 2,....n-1"
      ],
      "metadata": {
        "id": "QdNgH8HqgMY5"
      }
    },
    {
      "cell_type": "code",
      "source": [
        "import math\n",
        "def prime(n):\n",
        "  (result,i) = (True,2)\n",
        "  while (result and (i <= math.sqrt(n))):\n",
        "    if (n%i) == 0:\n",
        "      result = False\n",
        "    i = i+1\n",
        "  return(result)"
      ],
      "metadata": {
        "id": "jtCBYAdKhCSu"
      },
      "execution_count": null,
      "outputs": []
    },
    {
      "cell_type": "markdown",
      "source": [
        "# Properties\n",
        "* There are infinitely many primes\n",
        "* How are they distributed ?\n",
        "* Twin primes: p, p+2\n",
        "* Twin prime conjecture,\n",
        "  There are infinity many twin primes\n",
        "* Compute the diffrence between primes\n",
        "* Use dictionary\n",
        "* Start checking from 3, since 2 is the smallest prime"
      ],
      "metadata": {
        "id": "7yFcXpcMiyUk"
      }
    },
    {
      "cell_type": "code",
      "source": [
        "def primediffs(n):\n",
        "  lastprime = 2\n",
        "  pd ={}\n",
        "  for i in range(3,n+1):\n",
        "    if prime(i):\n",
        "      d = i - lastprime\n",
        "      lastprime = i\n",
        "      if d in pd:\n",
        "        pd[d] = pd[d] + 1\n",
        "      else:\n",
        "        pd[d] = 1\n",
        "  return(pd)\n"
      ],
      "metadata": {
        "id": "_WkKOZZ6jmq0"
      },
      "execution_count": null,
      "outputs": []
    }
  ]
}